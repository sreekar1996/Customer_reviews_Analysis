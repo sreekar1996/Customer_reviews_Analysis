{
 "cells": [
  {
   "cell_type": "markdown",
   "metadata": {},
   "source": [
    "# 1. Loading The Libraries"
   ]
  },
  {
   "cell_type": "code",
   "execution_count": 1,
   "metadata": {},
   "outputs": [],
   "source": [
    "import pandas as pd\n",
    "import numpy as np\n",
    "import matplotlib.pyplot as plt\n",
    "import seaborn as sns\n",
    "import nltk\n",
    "from nltk.corpus import stopwords"
   ]
  },
  {
   "cell_type": "markdown",
   "metadata": {},
   "source": [
    "# 2.Load dataset"
   ]
  },
  {
   "cell_type": "code",
   "execution_count": 2,
   "metadata": {
    "scrolled": true
   },
   "outputs": [
    {
     "data": {
      "text/html": [
       "<div>\n",
       "<style scoped>\n",
       "    .dataframe tbody tr th:only-of-type {\n",
       "        vertical-align: middle;\n",
       "    }\n",
       "\n",
       "    .dataframe tbody tr th {\n",
       "        vertical-align: top;\n",
       "    }\n",
       "\n",
       "    .dataframe thead th {\n",
       "        text-align: right;\n",
       "    }\n",
       "</style>\n",
       "<table border=\"1\" class=\"dataframe\">\n",
       "  <thead>\n",
       "    <tr style=\"text-align: right;\">\n",
       "      <th></th>\n",
       "      <th>subject</th>\n",
       "      <th>Customer</th>\n",
       "      <th>Location</th>\n",
       "      <th>Rating</th>\n",
       "      <th>date_time</th>\n",
       "      <th>Views</th>\n",
       "      <th>complaint</th>\n",
       "      <th>Total_reviews_by_customer</th>\n",
       "      <th>Customer_follower</th>\n",
       "    </tr>\n",
       "  </thead>\n",
       "  <tbody>\n",
       "    <tr>\n",
       "      <th>0</th>\n",
       "      <td>Cheaters</td>\n",
       "      <td>ambajirao_a</td>\n",
       "      <td>Bangalore India</td>\n",
       "      <td>1</td>\n",
       "      <td>Apr 22, 2014 05:22 PM</td>\n",
       "      <td>9558 Views</td>\n",
       "      <td>Third class service and they are cheaters. Nev...</td>\n",
       "      <td>2 Reviews</td>\n",
       "      <td>1 Follower</td>\n",
       "    </tr>\n",
       "    <tr>\n",
       "      <th>1</th>\n",
       "      <td>Well, think again!!!!!</td>\n",
       "      <td>deekshasethi</td>\n",
       "      <td>new delhi india</td>\n",
       "      <td>4</td>\n",
       "      <td>Mar 13, 2006 09:41 PM</td>\n",
       "      <td>3548 Views</td>\n",
       "      <td>Its true that insurance is a services based in...</td>\n",
       "      <td>7 Reviews</td>\n",
       "      <td>6 Followers</td>\n",
       "    </tr>\n",
       "    <tr>\n",
       "      <th>2</th>\n",
       "      <td>Metlife is the worst insurance company</td>\n",
       "      <td>lijok</td>\n",
       "      <td>Kochi India</td>\n",
       "      <td>1</td>\n",
       "      <td>Jun 04, 2013 09:08 AM</td>\n",
       "      <td>9311 Views</td>\n",
       "      <td>I have taken a Metlife policy in 2008 August w...</td>\n",
       "      <td>1 Review</td>\n",
       "      <td>NaN</td>\n",
       "    </tr>\n",
       "    <tr>\n",
       "      <th>3</th>\n",
       "      <td>HAVE U MET LIFE TODAY??????</td>\n",
       "      <td>Kiran4</td>\n",
       "      <td>mumbai india</td>\n",
       "      <td>4</td>\n",
       "      <td>Oct 14, 2004 02:06 PM</td>\n",
       "      <td>15309 Views</td>\n",
       "      <td>Scene 1 : A lady weeping besides the dead body...</td>\n",
       "      <td>15 Reviews</td>\n",
       "      <td>28 Followers</td>\n",
       "    </tr>\n",
       "    <tr>\n",
       "      <th>4</th>\n",
       "      <td>Irresponsible persons  working over there in PNB</td>\n",
       "      <td>srikanthkumar.a</td>\n",
       "      <td>Bengaluru/ Bangalore India</td>\n",
       "      <td>1</td>\n",
       "      <td>May 31, 2017 07:30 PM</td>\n",
       "      <td>3480 Views</td>\n",
       "      <td>Once policy created, no one look back  to cust...</td>\n",
       "      <td>1 Review</td>\n",
       "      <td>NaN</td>\n",
       "    </tr>\n",
       "  </tbody>\n",
       "</table>\n",
       "</div>"
      ],
      "text/plain": [
       "                                            subject         Customer  \\\n",
       "0                                          Cheaters      ambajirao_a   \n",
       "1                            Well, think again!!!!!     deekshasethi   \n",
       "2            Metlife is the worst insurance company            lijok   \n",
       "3                       HAVE U MET LIFE TODAY??????           Kiran4   \n",
       "4  Irresponsible persons  working over there in PNB  srikanthkumar.a   \n",
       "\n",
       "                     Location  Rating              date_time        Views  \\\n",
       "0             Bangalore India       1  Apr 22, 2014 05:22 PM   9558 Views   \n",
       "1             new delhi india       4  Mar 13, 2006 09:41 PM   3548 Views   \n",
       "2                 Kochi India       1  Jun 04, 2013 09:08 AM   9311 Views   \n",
       "3                mumbai india       4  Oct 14, 2004 02:06 PM  15309 Views   \n",
       "4  Bengaluru/ Bangalore India       1  May 31, 2017 07:30 PM   3480 Views   \n",
       "\n",
       "                                           complaint  \\\n",
       "0  Third class service and they are cheaters. Nev...   \n",
       "1  Its true that insurance is a services based in...   \n",
       "2  I have taken a Metlife policy in 2008 August w...   \n",
       "3  Scene 1 : A lady weeping besides the dead body...   \n",
       "4  Once policy created, no one look back  to cust...   \n",
       "\n",
       "  Total_reviews_by_customer Customer_follower  \n",
       "0                 2 Reviews        1 Follower  \n",
       "1                 7 Reviews       6 Followers  \n",
       "2                  1 Review               NaN  \n",
       "3                15 Reviews      28 Followers  \n",
       "4                  1 Review               NaN  "
      ]
     },
     "execution_count": 2,
     "metadata": {},
     "output_type": "execute_result"
    }
   ],
   "source": [
    "data=pd.read_excel(\"dataset.xlsx\")\n",
    "data.head(5)"
   ]
  },
  {
   "cell_type": "code",
   "execution_count": 3,
   "metadata": {},
   "outputs": [
    {
     "data": {
      "text/plain": [
       "(130, 9)"
      ]
     },
     "execution_count": 3,
     "metadata": {},
     "output_type": "execute_result"
    }
   ],
   "source": [
    "data.shape"
   ]
  },
  {
   "cell_type": "code",
   "execution_count": 4,
   "metadata": {},
   "outputs": [
    {
     "data": {
      "text/plain": [
       "array(['Bangalore India', 'new delhi india', 'Kochi India',\n",
       "       'mumbai india', 'Bengaluru/ Bangalore India', 'Chennai India',\n",
       "       'Dwarka India', 'banglaore india', 'Delhi India',\n",
       "       'Chandigarh India', 'Bangalore Inida', 'New Delhi, India India',\n",
       "       'Miamisburg OH India', 'India', 'Bangalore BE', 'noida India',\n",
       "       'Hyderabad India', 'Rani Bagh India', 'Mumbai India',\n",
       "       'greater noida India', 'Mumbai, India India', 'Jamshedpur India',\n",
       "       'New Delhi India', 'Mumbai, Maharashtra, India India',\n",
       "       'ludhiana India', 'Rohtak India', 'Pune India', 'Gurgaon India',\n",
       "       'Kolkata India', 'Noida, India India', 'BHOPAL India',\n",
       "       'Amherst USA', 'Karnataka India', 'chennai India',\n",
       "       'Bangalore, India India', 'kolkata India', nan, 'Rishikesh India',\n",
       "       'Noida India', 'Lucknow India', 'bangalore India',\n",
       "       'Mangalore India', 'Allahabad, India India', 'Kottayam India',\n",
       "       'Ajmer India', 'gurgaon India', 'thane India', 'Bhadra India',\n",
       "       'Ahmedabad India', 'Faridabad India', 'Del India',\n",
       "       'Kharagpur India', 'new delhi India', 'Hubli India', 'salem India',\n",
       "       'Vijayawada India', 'Pune INDIA', 'Jaipur  India', 'Thane India',\n",
       "       'Coimbatore, Tamil Nadu India', 'Morinda India', 'mumbai India',\n",
       "       'Trichy India', 'Cochin India', 'bangalore india',\n",
       "       'Jaipur, Rajasthan India', 'Tezpur India'], dtype=object)"
      ]
     },
     "execution_count": 4,
     "metadata": {},
     "output_type": "execute_result"
    }
   ],
   "source": [
    "data.Location.unique()"
   ]
  },
  {
   "cell_type": "code",
   "execution_count": 5,
   "metadata": {},
   "outputs": [
    {
     "name": "stdout",
     "output_type": "stream",
     "text": [
      "<class 'pandas.core.frame.DataFrame'>\n",
      "RangeIndex: 130 entries, 0 to 129\n",
      "Data columns (total 9 columns):\n",
      "subject                      130 non-null object\n",
      "Customer                     128 non-null object\n",
      "Location                     125 non-null object\n",
      "Rating                       130 non-null int64\n",
      "date_time                    130 non-null object\n",
      "Views                        130 non-null object\n",
      "complaint                    130 non-null object\n",
      "Total_reviews_by_customer    128 non-null object\n",
      "Customer_follower            42 non-null object\n",
      "dtypes: int64(1), object(8)\n",
      "memory usage: 9.2+ KB\n"
     ]
    }
   ],
   "source": [
    "data.info()"
   ]
  },
  {
   "cell_type": "code",
   "execution_count": 6,
   "metadata": {},
   "outputs": [
    {
     "data": {
      "text/html": [
       "<div>\n",
       "<style scoped>\n",
       "    .dataframe tbody tr th:only-of-type {\n",
       "        vertical-align: middle;\n",
       "    }\n",
       "\n",
       "    .dataframe tbody tr th {\n",
       "        vertical-align: top;\n",
       "    }\n",
       "\n",
       "    .dataframe thead th {\n",
       "        text-align: right;\n",
       "    }\n",
       "</style>\n",
       "<table border=\"1\" class=\"dataframe\">\n",
       "  <thead>\n",
       "    <tr style=\"text-align: right;\">\n",
       "      <th></th>\n",
       "      <th>Rating</th>\n",
       "    </tr>\n",
       "  </thead>\n",
       "  <tbody>\n",
       "    <tr>\n",
       "      <th>count</th>\n",
       "      <td>130.000000</td>\n",
       "    </tr>\n",
       "    <tr>\n",
       "      <th>mean</th>\n",
       "      <td>1.700000</td>\n",
       "    </tr>\n",
       "    <tr>\n",
       "      <th>std</th>\n",
       "      <td>1.267666</td>\n",
       "    </tr>\n",
       "    <tr>\n",
       "      <th>min</th>\n",
       "      <td>1.000000</td>\n",
       "    </tr>\n",
       "    <tr>\n",
       "      <th>25%</th>\n",
       "      <td>1.000000</td>\n",
       "    </tr>\n",
       "    <tr>\n",
       "      <th>50%</th>\n",
       "      <td>1.000000</td>\n",
       "    </tr>\n",
       "    <tr>\n",
       "      <th>75%</th>\n",
       "      <td>2.000000</td>\n",
       "    </tr>\n",
       "    <tr>\n",
       "      <th>max</th>\n",
       "      <td>5.000000</td>\n",
       "    </tr>\n",
       "  </tbody>\n",
       "</table>\n",
       "</div>"
      ],
      "text/plain": [
       "           Rating\n",
       "count  130.000000\n",
       "mean     1.700000\n",
       "std      1.267666\n",
       "min      1.000000\n",
       "25%      1.000000\n",
       "50%      1.000000\n",
       "75%      2.000000\n",
       "max      5.000000"
      ]
     },
     "execution_count": 6,
     "metadata": {},
     "output_type": "execute_result"
    }
   ],
   "source": [
    "data.describe()"
   ]
  },
  {
   "cell_type": "code",
   "execution_count": 7,
   "metadata": {
    "scrolled": true
   },
   "outputs": [
    {
     "data": {
      "text/html": [
       "<div>\n",
       "<style scoped>\n",
       "    .dataframe tbody tr th:only-of-type {\n",
       "        vertical-align: middle;\n",
       "    }\n",
       "\n",
       "    .dataframe tbody tr th {\n",
       "        vertical-align: top;\n",
       "    }\n",
       "\n",
       "    .dataframe thead th {\n",
       "        text-align: right;\n",
       "    }\n",
       "</style>\n",
       "<table border=\"1\" class=\"dataframe\">\n",
       "  <thead>\n",
       "    <tr style=\"text-align: right;\">\n",
       "      <th></th>\n",
       "      <th>subject</th>\n",
       "      <th>Customer</th>\n",
       "      <th>Location</th>\n",
       "      <th>Rating</th>\n",
       "      <th>date_time</th>\n",
       "      <th>Views</th>\n",
       "      <th>complaint</th>\n",
       "      <th>Total_reviews_by_customer</th>\n",
       "      <th>Customer_follower</th>\n",
       "      <th>text_length</th>\n",
       "    </tr>\n",
       "  </thead>\n",
       "  <tbody>\n",
       "    <tr>\n",
       "      <th>0</th>\n",
       "      <td>Cheaters</td>\n",
       "      <td>ambajirao_a</td>\n",
       "      <td>Bangalore India</td>\n",
       "      <td>1</td>\n",
       "      <td>Apr 22, 2014 05:22 PM</td>\n",
       "      <td>9558 Views</td>\n",
       "      <td>Third class service and they are cheaters. Nev...</td>\n",
       "      <td>2 Reviews</td>\n",
       "      <td>1 Follower</td>\n",
       "      <td>8</td>\n",
       "    </tr>\n",
       "    <tr>\n",
       "      <th>1</th>\n",
       "      <td>Well, think again!!!!!</td>\n",
       "      <td>deekshasethi</td>\n",
       "      <td>new delhi india</td>\n",
       "      <td>4</td>\n",
       "      <td>Mar 13, 2006 09:41 PM</td>\n",
       "      <td>3548 Views</td>\n",
       "      <td>Its true that insurance is a services based in...</td>\n",
       "      <td>7 Reviews</td>\n",
       "      <td>6 Followers</td>\n",
       "      <td>22</td>\n",
       "    </tr>\n",
       "    <tr>\n",
       "      <th>2</th>\n",
       "      <td>Metlife is the worst insurance company</td>\n",
       "      <td>lijok</td>\n",
       "      <td>Kochi India</td>\n",
       "      <td>1</td>\n",
       "      <td>Jun 04, 2013 09:08 AM</td>\n",
       "      <td>9311 Views</td>\n",
       "      <td>I have taken a Metlife policy in 2008 August w...</td>\n",
       "      <td>1 Review</td>\n",
       "      <td>NaN</td>\n",
       "      <td>38</td>\n",
       "    </tr>\n",
       "    <tr>\n",
       "      <th>3</th>\n",
       "      <td>HAVE U MET LIFE TODAY??????</td>\n",
       "      <td>Kiran4</td>\n",
       "      <td>mumbai india</td>\n",
       "      <td>4</td>\n",
       "      <td>Oct 14, 2004 02:06 PM</td>\n",
       "      <td>15309 Views</td>\n",
       "      <td>Scene 1 : A lady weeping besides the dead body...</td>\n",
       "      <td>15 Reviews</td>\n",
       "      <td>28 Followers</td>\n",
       "      <td>27</td>\n",
       "    </tr>\n",
       "    <tr>\n",
       "      <th>4</th>\n",
       "      <td>Irresponsible persons  working over there in PNB</td>\n",
       "      <td>srikanthkumar.a</td>\n",
       "      <td>Bengaluru/ Bangalore India</td>\n",
       "      <td>1</td>\n",
       "      <td>May 31, 2017 07:30 PM</td>\n",
       "      <td>3480 Views</td>\n",
       "      <td>Once policy created, no one look back  to cust...</td>\n",
       "      <td>1 Review</td>\n",
       "      <td>NaN</td>\n",
       "      <td>48</td>\n",
       "    </tr>\n",
       "  </tbody>\n",
       "</table>\n",
       "</div>"
      ],
      "text/plain": [
       "                                            subject         Customer  \\\n",
       "0                                          Cheaters      ambajirao_a   \n",
       "1                            Well, think again!!!!!     deekshasethi   \n",
       "2            Metlife is the worst insurance company            lijok   \n",
       "3                       HAVE U MET LIFE TODAY??????           Kiran4   \n",
       "4  Irresponsible persons  working over there in PNB  srikanthkumar.a   \n",
       "\n",
       "                     Location  Rating              date_time        Views  \\\n",
       "0             Bangalore India       1  Apr 22, 2014 05:22 PM   9558 Views   \n",
       "1             new delhi india       4  Mar 13, 2006 09:41 PM   3548 Views   \n",
       "2                 Kochi India       1  Jun 04, 2013 09:08 AM   9311 Views   \n",
       "3                mumbai india       4  Oct 14, 2004 02:06 PM  15309 Views   \n",
       "4  Bengaluru/ Bangalore India       1  May 31, 2017 07:30 PM   3480 Views   \n",
       "\n",
       "                                           complaint  \\\n",
       "0  Third class service and they are cheaters. Nev...   \n",
       "1  Its true that insurance is a services based in...   \n",
       "2  I have taken a Metlife policy in 2008 August w...   \n",
       "3  Scene 1 : A lady weeping besides the dead body...   \n",
       "4  Once policy created, no one look back  to cust...   \n",
       "\n",
       "  Total_reviews_by_customer Customer_follower  text_length  \n",
       "0                 2 Reviews        1 Follower            8  \n",
       "1                 7 Reviews       6 Followers           22  \n",
       "2                  1 Review               NaN           38  \n",
       "3                15 Reviews      28 Followers           27  \n",
       "4                  1 Review               NaN           48  "
      ]
     },
     "execution_count": 7,
     "metadata": {},
     "output_type": "execute_result"
    }
   ],
   "source": [
    "data['text_length'] = data['subject'].apply(len)\n",
    "data.head()"
   ]
  },
  {
   "cell_type": "markdown",
   "metadata": {},
   "source": [
    "# EDA"
   ]
  },
  {
   "cell_type": "code",
   "execution_count": 8,
   "metadata": {},
   "outputs": [
    {
     "data": {
      "text/plain": [
       "<seaborn.axisgrid.FacetGrid at 0x1d347b00320>"
      ]
     },
     "execution_count": 8,
     "metadata": {},
     "output_type": "execute_result"
    },
    {
     "data": {
      "image/png": "[encoded data removed]",
      "text/plain": [
       "<Figure size 1080x216 with 5 Axes>"
      ]
     },
     "metadata": {},
     "output_type": "display_data"
    }
   ],
   "source": [
    "g = sns.FacetGrid(data=data, col='Rating')\n",
    "g.map(plt.hist, 'text_length', bins=70)"
   ]
  },
  {
   "cell_type": "code",
   "execution_count": 9,
   "metadata": {},
   "outputs": [
    {
     "data": {
      "text/plain": [
       "<matplotlib.axes._subplots.AxesSubplot at 0x1d34806d3c8>"
      ]
     },
     "execution_count": 9,
     "metadata": {},
     "output_type": "execute_result"
    },
    {
     "data": {
      "image/png": "[encoded data removed]",
      "text/plain": [
       "<Figure size 432x288 with 1 Axes>"
      ]
     },
     "metadata": {},
     "output_type": "display_data"
    }
   ],
   "source": [
    "sns.boxplot(x='Rating', y='text_length', data=data)"
   ]
  },
  {
   "cell_type": "code",
   "execution_count": 10,
   "metadata": {},
   "outputs": [
    {
     "data": {
      "text/html": [
       "<div>\n",
       "<style scoped>\n",
       "    .dataframe tbody tr th:only-of-type {\n",
       "        vertical-align: middle;\n",
       "    }\n",
       "\n",
       "    .dataframe tbody tr th {\n",
       "        vertical-align: top;\n",
       "    }\n",
       "\n",
       "    .dataframe thead th {\n",
       "        text-align: right;\n",
       "    }\n",
       "</style>\n",
       "<table border=\"1\" class=\"dataframe\">\n",
       "  <thead>\n",
       "    <tr style=\"text-align: right;\">\n",
       "      <th></th>\n",
       "      <th>text_length</th>\n",
       "    </tr>\n",
       "  </thead>\n",
       "  <tbody>\n",
       "    <tr>\n",
       "      <th>text_length</th>\n",
       "      <td>1.0</td>\n",
       "    </tr>\n",
       "  </tbody>\n",
       "</table>\n",
       "</div>"
      ],
      "text/plain": [
       "             text_length\n",
       "text_length          1.0"
      ]
     },
     "execution_count": 10,
     "metadata": {},
     "output_type": "execute_result"
    }
   ],
   "source": [
    "Rating = data.groupby('Rating').mean()\n",
    "Rating.corr()"
   ]
  },
  {
   "cell_type": "code",
   "execution_count": 11,
   "metadata": {},
   "outputs": [
    {
     "data": {
      "text/plain": [
       "<matplotlib.axes._subplots.AxesSubplot at 0x1d34819e128>"
      ]
     },
     "execution_count": 11,
     "metadata": {},
     "output_type": "execute_result"
    },
    {
     "data": {
      "image/png": "[encoded data removed]",
      "text/plain": [
       "<Figure size 432x288 with 2 Axes>"
      ]
     },
     "metadata": {},
     "output_type": "display_data"
    }
   ],
   "source": [
    "sns.heatmap(data=Rating.corr(), annot=True)"
   ]
  },
  {
   "cell_type": "code",
   "execution_count": 12,
   "metadata": {},
   "outputs": [
    {
     "data": {
      "text/plain": [
       "(100, 10)"
      ]
     },
     "execution_count": 12,
     "metadata": {},
     "output_type": "execute_result"
    }
   ],
   "source": [
    "data_class = data[(data['Rating'] == 1) | (data['Rating'] == 5)]\n",
    "data_class.shape"
   ]
  },
  {
   "cell_type": "code",
   "execution_count": 13,
   "metadata": {},
   "outputs": [],
   "source": [
    "X = data_class['complaint']\n",
    "y = data_class['Rating']"
   ]
  },
  {
   "cell_type": "code",
   "execution_count": 14,
   "metadata": {},
   "outputs": [
    {
     "data": {
      "text/plain": [
       "\"Third class service and they are cheaters. Never ever opt for this. While taking money they are not bothered about the identity of person giving money but while refund or surrender of policy they want to communicate with policy owner only and that too with registered mobile number and phone number.\\nWhen the policy is surrendered they try to misguide the policy owner by saying that the NAV will increase and cancel the surrendered request and they don't even respond when surrendered the policy second time.\\nThere is no benefit of any of the metlife policy and they just want to make profit from customers money. I was paying premium of Rs 25000 and out of which Rs 3000 is deducted every year from profit which is 12% of invested amount.\\n\\n ...Google PlusEmail Flag this reviewIrrelevantFakeJunk    Report this content as inappropriate on the site:\\n\\nIf you find this review content irrelevant on our site, report this review! Thank You! We appreciate your effort.\""
      ]
     },
     "execution_count": 14,
     "metadata": {},
     "output_type": "execute_result"
    }
   ],
   "source": [
    "X[0]"
   ]
  },
  {
   "cell_type": "code",
   "execution_count": 17,
   "metadata": {},
   "outputs": [],
   "source": [
    "import string\n",
    "def text_process(complaint):\n",
    "    '''\n",
    "    Takes in a string of text, then performs the following:\n",
    "    1. Remove all punctuation\n",
    "    2. Remove all stopwords\n",
    "    3. Return the cleaned text as a list of words\n",
    "    '''\n",
    "    nopunc = [char for char in complaint if char not in string.punctuation]\n",
    "    nopunc = ''.join(nopunc)\n",
    "    \n",
    "    return [word for word in nopunc.split() if word.lower() not in stopwords.words('english')]"
   ]
  },
  {
   "cell_type": "code",
   "execution_count": 18,
   "metadata": {},
   "outputs": [],
   "source": [
    "import re # for regular expressions\n",
    "pd.set_option(\"display.max_colwidth\", 200)\n",
    "import matplotlib.pyplot as plt \n",
    "import string\n",
    "import nltk # for text manipulation\n",
    "import warnings \n",
    "warnings.filterwarnings(\"ignore\", category=DeprecationWarning)\n",
    "\n",
    "%matplotlib inline\n",
    "from sklearn.feature_extraction.text import TfidfVectorizer, CountVectorizer\n",
    "import gensim"
   ]
  },
  {
   "cell_type": "code",
   "execution_count": 20,
   "metadata": {
    "scrolled": true
   },
   "outputs": [
    {
     "name": "stdout",
     "output_type": "stream",
     "text": [
      "['Hey', 'sample', 'review', 'happens', 'contain', 'punctuations']\n"
     ]
    }
   ],
   "source": [
    "sample_text = \"Hey there! This is a sample review, which happens to contain punctuations.\"\n",
    "print(text_process(sample_text))"
   ]
  },
  {
   "cell_type": "markdown",
   "metadata": {},
   "source": [
    "Since there are many reviews, we can expect a lot of zero counts for the presence of a word in the collection. Because of this, Scikit-learn will output a sparse matrix.\n",
    "\n",
    "Let’s import CountVectorizer and fit an instance to our review text (stored in X), passing in our text_process function as the analyser."
   ]
  },
  {
   "cell_type": "code",
   "execution_count": 21,
   "metadata": {},
   "outputs": [],
   "source": [
    "bow_transformer = CountVectorizer(analyzer=text_process).fit(X)"
   ]
  },
  {
   "cell_type": "code",
   "execution_count": 22,
   "metadata": {},
   "outputs": [
    {
     "data": {
      "text/plain": [
       "3184"
      ]
     },
     "execution_count": 22,
     "metadata": {},
     "output_type": "execute_result"
    }
   ],
   "source": [
    "len(bow_transformer.vocabulary_)"
   ]
  },
  {
   "cell_type": "code",
   "execution_count": 23,
   "metadata": {},
   "outputs": [],
   "source": [
    "review_25 = X[24]"
   ]
  },
  {
   "cell_type": "code",
   "execution_count": 24,
   "metadata": {},
   "outputs": [
    {
     "data": {
      "text/plain": [
       "'The worst insurance policy I have ever seen. They charged 500 rs as a fine for just 1 month delay payment. when I registered a complain regarding the same they told me that the delay payment charges increases everyday. I have never seen any company increses delay payment charges per day. Really dissapointed with the service. while buying the policy I have regestered a ecs facility which is not yet activated.I will suggest not to buy any policy from pnb met life they are the real cheaters in the form of insurance company.\\n\\n ...Google PlusEmail Flag this reviewIrrelevantFakeJunk    Report this content as inappropriate on the site:\\n\\nIf you find this review content irrelevant on our site, report this review! Thank You! We appreciate your effort.'"
      ]
     },
     "execution_count": 24,
     "metadata": {},
     "output_type": "execute_result"
    }
   ],
   "source": [
    "review_25"
   ]
  },
  {
   "cell_type": "code",
   "execution_count": 25,
   "metadata": {},
   "outputs": [
    {
     "data": {
      "text/plain": [
       "<1x3184 sparse matrix of type '<class 'numpy.int64'>'\n",
       "\twith 57 stored elements in Compressed Sparse Row format>"
      ]
     },
     "execution_count": 25,
     "metadata": {},
     "output_type": "execute_result"
    }
   ],
   "source": [
    "bow_25 = bow_transformer.transform([review_25])\n",
    "bow_25"
   ]
  },
  {
   "cell_type": "code",
   "execution_count": 27,
   "metadata": {},
   "outputs": [
    {
     "name": "stdout",
     "output_type": "stream",
     "text": [
      "20K\n",
      "20751099\n"
     ]
    }
   ],
   "source": [
    "print(bow_transformer.get_feature_names()[114])\n",
    "print(bow_transformer.get_feature_names()[112])"
   ]
  },
  {
   "cell_type": "code",
   "execution_count": 28,
   "metadata": {},
   "outputs": [],
   "source": [
    "X = bow_transformer.transform(X)"
   ]
  },
  {
   "cell_type": "code",
   "execution_count": 33,
   "metadata": {},
   "outputs": [
    {
     "name": "stdout",
     "output_type": "stream",
     "text": [
      "Shape of Sparse Matrix:  (100, 3184)\n",
      "Amount of Non-Zero occurrences:  9588\n"
     ]
    }
   ],
   "source": [
    "print('Shape of Sparse Matrix: ', X.shape)\n",
    "print('Amount of Non-Zero occurrences: ', X.nnz)\n"
   ]
  },
  {
   "cell_type": "code",
   "execution_count": 34,
   "metadata": {},
   "outputs": [
    {
     "name": "stdout",
     "output_type": "stream",
     "text": [
      "Density: 3.0113065326633164\n"
     ]
    }
   ],
   "source": [
    "# Percentage of non-zero values\n",
    "density = (100.0 * X.nnz / (X.shape[0] * X.shape[1]))\n",
    "print('Density: {}'.format((density)))"
   ]
  },
  {
   "cell_type": "code",
   "execution_count": 35,
   "metadata": {},
   "outputs": [],
   "source": [
    "from sklearn.model_selection import train_test_split\n",
    "X_train, X_test, y_train, y_test = train_test_split(X, y, test_size=0.3, random_state=101)"
   ]
  },
  {
   "cell_type": "code",
   "execution_count": 36,
   "metadata": {},
   "outputs": [
    {
     "data": {
      "text/plain": [
       "MultinomialNB(alpha=1.0, class_prior=None, fit_prior=True)"
      ]
     },
     "execution_count": 36,
     "metadata": {},
     "output_type": "execute_result"
    }
   ],
   "source": [
    "from sklearn.naive_bayes import MultinomialNB\n",
    "nb = MultinomialNB()\n",
    "nb.fit(X_train, y_train)"
   ]
  },
  {
   "cell_type": "code",
   "execution_count": 37,
   "metadata": {},
   "outputs": [],
   "source": [
    "preds = nb.predict(X_test)"
   ]
  },
  {
   "cell_type": "code",
   "execution_count": 38,
   "metadata": {
    "scrolled": true
   },
   "outputs": [
    {
     "name": "stdout",
     "output_type": "stream",
     "text": [
      "[[27  0]\n",
      " [ 3  0]]\n",
      "\n",
      "\n",
      "             precision    recall  f1-score   support\n",
      "\n",
      "          1       0.90      1.00      0.95        27\n",
      "          5       0.00      0.00      0.00         3\n",
      "\n",
      "avg / total       0.81      0.90      0.85        30\n",
      "\n"
     ]
    },
    {
     "name": "stderr",
     "output_type": "stream",
     "text": [
      "C:\\Users\\Name\\Anaconda3\\lib\\site-packages\\sklearn\\metrics\\classification.py:1135: UndefinedMetricWarning: Precision and F-score are ill-defined and being set to 0.0 in labels with no predicted samples.\n",
      "  'precision', 'predicted', average, warn_for)\n"
     ]
    }
   ],
   "source": [
    "from sklearn.metrics import confusion_matrix, classification_report\n",
    "print(confusion_matrix(y_test, preds))\n",
    "print('\\n')\n",
    "print(classification_report(y_test, preds))"
   ]
  },
  {
   "cell_type": "markdown",
   "metadata": {},
   "source": [
    "# Data Bias\n",
    "* Although our model achieved quite a high accuracy, there are some issues with bias caused by the dataset.\n",
    "\n",
    "* Let’s take some singular reviews, and see what rating our model predicts for each one.\n",
    "\n",
    "* Predicting a singular positive review"
   ]
  },
  {
   "cell_type": "code",
   "execution_count": 40,
   "metadata": {
    "scrolled": true
   },
   "outputs": [
    {
     "data": {
      "text/plain": [
       "'Only invest in this company if you have sympathy for crooks and criminals since that money will never come back. I believe they are doing business just\\xa0\\xa0to acquire public money and then run away.\\xa0\\xa0My mother invested money for 3 years which was what the agent told her, after which when she wanted to discontinue they would not allow that and kept pursuing her without listening to her.\\xa0\\xa0Finally they applied thousands of unknown hidden cost and service charges and finally she got back only 20% of the principal amount she had invested.\\nAfter that their agent calls her after some time and tells her that if she invests more money then they can help her with the injustice done towards her and get back her principal. For that she has to send a cheque of 15000 to some address and sms the cheque no and the DTDC courier number to him, When we questioned him more because we smelled wrongdoing, the agent disconnected. We believe that this was a method employed by metlife to get suck the last possible amount from the investor before shelving his/her record.\\n\\n ...Google PlusEmail Flag this reviewIrrelevantFakeJunk    Report this content as inappropriate on the site:\\n\\nIf you find this review content irrelevant on our site, report this review! Thank You! We appreciate your effort.'"
      ]
     },
     "execution_count": 40,
     "metadata": {},
     "output_type": "execute_result"
    }
   ],
   "source": [
    "positive_review = data_class['complaint'][12]\n",
    "positive_review"
   ]
  },
  {
   "cell_type": "code",
   "execution_count": 41,
   "metadata": {
    "scrolled": true
   },
   "outputs": [
    {
     "data": {
      "text/plain": [
       "1"
      ]
     },
     "execution_count": 41,
     "metadata": {},
     "output_type": "execute_result"
    }
   ],
   "source": [
    "positive_review_transformed = bow_transformer.transform([positive_review])\n",
    "nb.predict(positive_review_transformed)[0]"
   ]
  },
  {
   "cell_type": "markdown",
   "metadata": {},
   "source": [
    "Here’s another negative review. Let’s see if the model predicts this one correctly."
   ]
  },
  {
   "cell_type": "code",
   "execution_count": 44,
   "metadata": {},
   "outputs": [
    {
     "data": {
      "text/plain": [
       "'We have 2 policies:00110576 & 00111801\\nWe had surrendered our policies on 21 Aug 2015 and got the acknowledgement.\\nBut the company is not settling the amount(more than Rs 10 lacs).\\nThey are behaving like a chit fund company. Never expected this from a Public Sector & Multinational company.\\nAlthough I keep telling them repeatedly that the policy is with them, they go no like a broken record \"Submit your policy\".\\nDoes anybody have any suggestion how to get them to settle my account.\\nRozario & Kavitha\\n\\n ...Google PlusEmail Flag this reviewIrrelevantFakeJunk    Report this content as inappropriate on the site:\\n\\nIf you find this review content irrelevant on our site, report this review! Thank You! We appreciate your effort.'"
      ]
     },
     "execution_count": 44,
     "metadata": {},
     "output_type": "execute_result"
    }
   ],
   "source": [
    "negative_review = data_class['complaint'][20]\n",
    "negative_review"
   ]
  },
  {
   "cell_type": "code",
   "execution_count": 45,
   "metadata": {},
   "outputs": [
    {
     "data": {
      "text/plain": [
       "1"
      ]
     },
     "execution_count": 45,
     "metadata": {},
     "output_type": "execute_result"
    }
   ],
   "source": [
    "negative_review_transformed = bow_transformer.transform([negative_review])\n",
    "nb.predict(negative_review_transformed)[0]"
   ]
  },
  {
   "cell_type": "code",
   "execution_count": 46,
   "metadata": {},
   "outputs": [
    {
     "data": {
      "text/plain": [
       "\"My policy no is 20150315 and I have taken Met Little Star.\\nIt has been 6 years and 9 month since I have been paying Rs 3000/ per month and after a recent visit of one of your relationship manager, I came to know that my fund is not moving at all. I also came to know that that time due to the mere fulfillment and increasing the no of sold policy, this policy was sold to me by the agent.\\nFrom last 81 months I have been paying Rs 3000/ per month and the total principal amount is\\n81 months x 3000= Rs 2, 43, 000/\\nAnd my current Fund value is showing only Rs 2, 56, 000/? This means I have gained only Rs 13, 000/ as increment after 7 years?\\nIs this what I have been paying for in a mutual fund?\\nIf I had invested this money in some other plan, the amount I would have got the twice at least.\\nMy points are:-\\n1) Just to increase the number of selling they have sold me this dead policy.\\n2) Their appointed agents( Manju Pillai and her husband Sheshadhri-+91-9810860247) knew all about this, still they sold me this policy just to'eat' commission.\\n3) The fund manager is not acting well in this policy, in fact there is no fund manager.\\n4) They have'eaten' allotment commission and other charges on a regular basis, but They haven't given any benefit to your customer(me).\\nI have wasted my 7 years and what I got in return, absolutely nothing.\\nThe crook agent'Sheshadhri Ramaswami'(+91-9810860247) who had sold me the policy has this facebook id=https://facebook.com/sheshadhri.ramaswami?fref=ts=\\nBeware of this crook and fraudster agent! I am attaching his photographs for the public!\\nMy Verdict:- Don't ever go with PNB Metlife. They are bunch of crooks and will eat your all money!\\n...Google PlusEmail Flag this reviewIrrelevantFakeJunk    Report this content as inappropriate on the site:\\n\\nIf you find this review content irrelevant on our site, report this review! Thank You! We appreciate your effort.\""
      ]
     },
     "execution_count": 46,
     "metadata": {},
     "output_type": "execute_result"
    }
   ],
   "source": [
    "another_negative_review = data_class['complaint'][30]\n",
    "another_negative_review"
   ]
  },
  {
   "cell_type": "code",
   "execution_count": 47,
   "metadata": {},
   "outputs": [
    {
     "data": {
      "text/plain": [
       "1"
      ]
     },
     "execution_count": 47,
     "metadata": {},
     "output_type": "execute_result"
    }
   ],
   "source": [
    "another_negative_review_transformed = bow_transformer.transform([another_negative_review])\n",
    "nb.predict(another_negative_review_transformed)[0]"
   ]
  },
  {
   "cell_type": "markdown",
   "metadata": {},
   "source": [
    "* Our model thinks this review is negative.\n",
    "\n",
    "* Why the incorrect prediction?\n",
    "One explanation as to why this may be the case is that our initial dataset had a much higher number of 5-rating  reviews than 1-Rating  reviews. This means that the model is more biased towards positive reviews compared to negative ones.\n",
    "\n",
    "* In conclusion, although our model was a little biased towards positive reviews, it was fairly accurate with its predictions,   achieving an accuracy of 85% on the test set."
   ]
  },
  {
   "cell_type": "markdown",
   "metadata": {},
   "source": [
    "# The END"
   ]
  },
  {
   "cell_type": "markdown",
   "metadata": {},
   "source": [
    "# Complexity of the analysis."
   ]
  },
  {
   "cell_type": "markdown",
   "metadata": {},
   "source": [
    "IT's is the complexity i dont have time to analysis every things"
   ]
  },
  {
   "cell_type": "markdown",
   "metadata": {},
   "source": [
    "# Extent of various methods and algorithms used."
   ]
  },
  {
   "cell_type": "markdown",
   "metadata": {},
   "source": [
    "I use the naive_bayes algoritham "
   ]
  },
  {
   "cell_type": "code",
   "execution_count": 48,
   "metadata": {},
   "outputs": [
    {
     "name": "stdout",
     "output_type": "stream",
     "text": [
      "[[27  0]\n",
      " [ 3  0]]\n",
      "\n",
      "\n",
      "             precision    recall  f1-score   support\n",
      "\n",
      "          1       0.90      1.00      0.95        27\n",
      "          5       0.00      0.00      0.00         3\n",
      "\n",
      "avg / total       0.81      0.90      0.85        30\n",
      "\n"
     ]
    },
    {
     "name": "stderr",
     "output_type": "stream",
     "text": [
      "C:\\Users\\Name\\Anaconda3\\lib\\site-packages\\sklearn\\metrics\\classification.py:1135: UndefinedMetricWarning: Precision and F-score are ill-defined and being set to 0.0 in labels with no predicted samples.\n",
      "  'precision', 'predicted', average, warn_for)\n"
     ]
    }
   ],
   "source": [
    "from sklearn.metrics import confusion_matrix, classification_report\n",
    "print(confusion_matrix(y_test, preds))\n",
    "print('\\n')\n",
    "print(classification_report(y_test, preds))"
   ]
  },
  {
   "cell_type": "markdown",
   "metadata": {},
   "source": [
    "i use NLP techniques to mine patterns from text."
   ]
  }
 ],
 "metadata": {
  "kernelspec": {
   "display_name": "Python 3",
   "language": "python",
   "name": "python3"
  },
  "language_info": {
   "codemirror_mode": {
    "name": "ipython",
    "version": 3
   },
   "file_extension": ".py",
   "mimetype": "text/x-python",
   "name": "python",
   "nbconvert_exporter": "python",
   "pygments_lexer": "ipython3",
   "version": "3.7.1"
  }
 },
 "nbformat": 4,
 "nbformat_minor": 2
}
