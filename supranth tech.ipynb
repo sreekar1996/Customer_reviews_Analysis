{
 "cells": [
  {
   "cell_type": "code",
   "execution_count": 146,
   "metadata": {},
   "outputs": [],
   "source": [
    "import pandas as pd"
   ]
  },
  {
   "cell_type": "code",
   "execution_count": 147,
   "metadata": {},
   "outputs": [],
   "source": [
    "data=pd.read_excel(\"dataset1.xlsx\")"
   ]
  },
  {
   "cell_type": "code",
   "execution_count": 148,
   "metadata": {},
   "outputs": [
    {
     "data": {
      "text/html": [
       "<div>\n",
       "<style scoped>\n",
       "    .dataframe tbody tr th:only-of-type {\n",
       "        vertical-align: middle;\n",
       "    }\n",
       "\n",
       "    .dataframe tbody tr th {\n",
       "        vertical-align: top;\n",
       "    }\n",
       "\n",
       "    .dataframe thead th {\n",
       "        text-align: right;\n",
       "    }\n",
       "</style>\n",
       "<table border=\"1\" class=\"dataframe\">\n",
       "  <thead>\n",
       "    <tr style=\"text-align: right;\">\n",
       "      <th></th>\n",
       "      <th>subject</th>\n",
       "      <th>Customer</th>\n",
       "      <th>Location</th>\n",
       "      <th>Rating</th>\n",
       "      <th>date_time</th>\n",
       "      <th>Views</th>\n",
       "      <th>complaint</th>\n",
       "      <th>Total_reviews_by_customer</th>\n",
       "      <th>Customer_follower</th>\n",
       "    </tr>\n",
       "  </thead>\n",
       "  <tbody>\n",
       "    <tr>\n",
       "      <th>0</th>\n",
       "      <td>Cheaters</td>\n",
       "      <td>ambajirao_a</td>\n",
       "      <td>Bangalore India</td>\n",
       "      <td>1</td>\n",
       "      <td>2014-04-22 17:22:00</td>\n",
       "      <td>9558 Views</td>\n",
       "      <td>Third class service and they are cheaters. Nev...</td>\n",
       "      <td>2 Reviews</td>\n",
       "      <td>1 Follower</td>\n",
       "    </tr>\n",
       "    <tr>\n",
       "      <th>1</th>\n",
       "      <td>Well, think again!!!!!</td>\n",
       "      <td>deekshasethi</td>\n",
       "      <td>new delhi india</td>\n",
       "      <td>4</td>\n",
       "      <td>2006-03-13 21:41:00</td>\n",
       "      <td>3548 Views</td>\n",
       "      <td>Its true that insurance is a services based in...</td>\n",
       "      <td>7 Reviews</td>\n",
       "      <td>6 Followers</td>\n",
       "    </tr>\n",
       "    <tr>\n",
       "      <th>2</th>\n",
       "      <td>Metlife is the worst insurance company</td>\n",
       "      <td>lijok</td>\n",
       "      <td>Kochi India</td>\n",
       "      <td>1</td>\n",
       "      <td>2013-06-04 09:08:00</td>\n",
       "      <td>9311 Views</td>\n",
       "      <td>I have taken a Metlife policy in 2008 August w...</td>\n",
       "      <td>1 Review</td>\n",
       "      <td>NaN</td>\n",
       "    </tr>\n",
       "    <tr>\n",
       "      <th>3</th>\n",
       "      <td>HAVE U MET LIFE TODAY??????</td>\n",
       "      <td>Kiran4</td>\n",
       "      <td>mumbai india</td>\n",
       "      <td>4</td>\n",
       "      <td>2004-10-14 14:06:00</td>\n",
       "      <td>15309 Views</td>\n",
       "      <td>Scene 1 : A lady weeping besides the dead body...</td>\n",
       "      <td>15 Reviews</td>\n",
       "      <td>28 Followers</td>\n",
       "    </tr>\n",
       "    <tr>\n",
       "      <th>4</th>\n",
       "      <td>Irresponsible persons  working over there in PNB</td>\n",
       "      <td>srikanthkumar.a</td>\n",
       "      <td>Bengaluru/ Bangalore India</td>\n",
       "      <td>1</td>\n",
       "      <td>2017-05-31 19:30:00</td>\n",
       "      <td>3480 Views</td>\n",
       "      <td>Once policy created, no one look back  to cust...</td>\n",
       "      <td>1 Review</td>\n",
       "      <td>NaN</td>\n",
       "    </tr>\n",
       "  </tbody>\n",
       "</table>\n",
       "</div>"
      ],
      "text/plain": [
       "                                            subject         Customer  \\\n",
       "0                                          Cheaters      ambajirao_a   \n",
       "1                            Well, think again!!!!!     deekshasethi   \n",
       "2            Metlife is the worst insurance company            lijok   \n",
       "3                       HAVE U MET LIFE TODAY??????           Kiran4   \n",
       "4  Irresponsible persons  working over there in PNB  srikanthkumar.a   \n",
       "\n",
       "                     Location  Rating           date_time        Views  \\\n",
       "0             Bangalore India       1 2014-04-22 17:22:00   9558 Views   \n",
       "1             new delhi india       4 2006-03-13 21:41:00   3548 Views   \n",
       "2                 Kochi India       1 2013-06-04 09:08:00   9311 Views   \n",
       "3                mumbai india       4 2004-10-14 14:06:00  15309 Views   \n",
       "4  Bengaluru/ Bangalore India       1 2017-05-31 19:30:00   3480 Views   \n",
       "\n",
       "                                           complaint  \\\n",
       "0  Third class service and they are cheaters. Nev...   \n",
       "1  Its true that insurance is a services based in...   \n",
       "2  I have taken a Metlife policy in 2008 August w...   \n",
       "3  Scene 1 : A lady weeping besides the dead body...   \n",
       "4  Once policy created, no one look back  to cust...   \n",
       "\n",
       "  Total_reviews_by_customer Customer_follower  \n",
       "0                 2 Reviews        1 Follower  \n",
       "1                 7 Reviews       6 Followers  \n",
       "2                  1 Review               NaN  \n",
       "3                15 Reviews      28 Followers  \n",
       "4                  1 Review               NaN  "
      ]
     },
     "execution_count": 148,
     "metadata": {},
     "output_type": "execute_result"
    }
   ],
   "source": [
    "data.head()"
   ]
  },
  {
   "cell_type": "code",
   "execution_count": 149,
   "metadata": {},
   "outputs": [
    {
     "data": {
      "text/plain": [
       "(130, 9)"
      ]
     },
     "execution_count": 149,
     "metadata": {},
     "output_type": "execute_result"
    }
   ],
   "source": [
    "data.shape"
   ]
  },
  {
   "cell_type": "code",
   "execution_count": 150,
   "metadata": {},
   "outputs": [
    {
     "data": {
      "text/plain": [
       "subject                       0\n",
       "Customer                      2\n",
       "Location                      5\n",
       "Rating                        0\n",
       "date_time                     0\n",
       "Views                         0\n",
       "complaint                     0\n",
       "Total_reviews_by_customer     2\n",
       "Customer_follower            88\n",
       "dtype: int64"
      ]
     },
     "execution_count": 150,
     "metadata": {},
     "output_type": "execute_result"
    }
   ],
   "source": [
    "data.isnull().sum()"
   ]
  },
  {
   "cell_type": "code",
   "execution_count": 151,
   "metadata": {},
   "outputs": [],
   "source": [
    "data = data.drop(labels = \"Customer_follower\", axis = 1)\n"
   ]
  },
  {
   "cell_type": "code",
   "execution_count": 152,
   "metadata": {},
   "outputs": [
    {
     "data": {
      "text/plain": [
       "(130, 8)"
      ]
     },
     "execution_count": 152,
     "metadata": {},
     "output_type": "execute_result"
    }
   ],
   "source": [
    "data.shape"
   ]
  },
  {
   "cell_type": "code",
   "execution_count": 153,
   "metadata": {},
   "outputs": [],
   "source": [
    "data=data.dropna()"
   ]
  },
  {
   "cell_type": "code",
   "execution_count": 154,
   "metadata": {},
   "outputs": [
    {
     "data": {
      "text/plain": [
       "array(['Bangalore India', 'new delhi india', 'Kochi India',\n",
       "       'mumbai india', 'Bengaluru/ Bangalore India', 'Chennai India',\n",
       "       'Dwarka India', 'banglaore india', 'Delhi India',\n",
       "       'Chandigarh India', 'Bangalore Inida', 'New Delhi, India India',\n",
       "       'Miamisburg OH India', 'India', 'Bangalore BE', 'noida India',\n",
       "       'Hyderabad India', 'Rani Bagh India', 'Mumbai India',\n",
       "       'greater noida India', 'Mumbai, India India', 'Jamshedpur India',\n",
       "       'New Delhi India', 'Mumbai, Maharashtra, India India',\n",
       "       'ludhiana India', 'Rohtak India', 'Pune India', 'Gurgaon India',\n",
       "       'Kolkata India', 'Noida, India India', 'BHOPAL India',\n",
       "       'Amherst USA', 'Karnataka India', 'chennai India',\n",
       "       'Bangalore, India India', 'kolkata India', 'Rishikesh India',\n",
       "       'Noida India', 'Lucknow India', 'bangalore India',\n",
       "       'Mangalore India', 'Allahabad, India India', 'Kottayam India',\n",
       "       'Ajmer India', 'gurgaon India', 'thane India', 'Bhadra India',\n",
       "       'Ahmedabad India', 'Faridabad India', 'Del India',\n",
       "       'Kharagpur India', 'new delhi India', 'Hubli India', 'salem India',\n",
       "       'Vijayawada India', 'Pune INDIA', 'Jaipur  India', 'Thane India',\n",
       "       'Coimbatore, Tamil Nadu India', 'Morinda India', 'mumbai India',\n",
       "       'Trichy India', 'Cochin India', 'bangalore india',\n",
       "       'Jaipur, Rajasthan India', 'Tezpur India'], dtype=object)"
      ]
     },
     "execution_count": 154,
     "metadata": {},
     "output_type": "execute_result"
    }
   ],
   "source": [
    "data.Location.unique()    #data's very dirty"
   ]
  },
  {
   "cell_type": "code",
   "execution_count": 155,
   "metadata": {},
   "outputs": [
    {
     "data": {
      "text/plain": [
       "array(['2 Reviews', '7 Reviews', '1 Review', '15 Reviews', '198 Reviews',\n",
       "       '3 Reviews', '6 Reviews', '5 Reviews', '60 Reviews', '4 Reviews',\n",
       "       '30 Reviews', '110 Reviews', '90 Reviews', '23 Reviews',\n",
       "       '54 Reviews', '21 Reviews', '14 Reviews', '237 Reviews',\n",
       "       '50 Reviews', '9 Reviews', '31 Reviews', '19 Reviews',\n",
       "       '358 Reviews', '440 Reviews', '16 Reviews', '18 Reviews',\n",
       "       '66 Reviews'], dtype=object)"
      ]
     },
     "execution_count": 155,
     "metadata": {},
     "output_type": "execute_result"
    }
   ],
   "source": [
    "data.Total_reviews_by_customer.unique()"
   ]
  },
  {
   "cell_type": "code",
   "execution_count": 156,
   "metadata": {},
   "outputs": [
    {
     "data": {
      "text/plain": [
       "183"
      ]
     },
     "execution_count": 156,
     "metadata": {},
     "output_type": "execute_result"
    }
   ],
   "source": [
    "import nltk\n",
    "nltk.corpus.stopwords.words('english')\n",
    "stop_words=nltk.corpus.stopwords.words('english')\n",
    "junk_words=[\"amp\",'rt','https','will']\n",
    "len(stop_words)\n",
    "stop_words.extend(junk_words)\n",
    "len(stop_words)"
   ]
  },
  {
   "cell_type": "code",
   "execution_count": 157,
   "metadata": {},
   "outputs": [
    {
     "data": {
      "text/plain": [
       "0                                            cheaters\n",
       "1                                    well think again\n",
       "2              metlife is the worst insurance company\n",
       "3                               have u met life today\n",
       "4    irresponsible persons  working over there in pnb\n",
       "Name: subject, dtype: object"
      ]
     },
     "execution_count": 157,
     "metadata": {},
     "output_type": "execute_result"
    }
   ],
   "source": [
    "docs=data['subject'].str.lower()\n",
    "docs.head()\n",
    "docs=docs.str.replace('[^a-z #@]','') # retain all alphabets with #@\n",
    "docs.head()"
   ]
  },
  {
   "cell_type": "code",
   "execution_count": 158,
   "metadata": {},
   "outputs": [],
   "source": [
    "#removing ing, ed etc\n",
    "stemmer=nltk.PorterStemmer()\n",
    "def clean_text(row_text):\n",
    "    #print(type(row_text))\n",
    "    row_words=row_text.split(' ')\n",
    "    #print(row_words)\n",
    "    row_words= [stemmer.stem(word) for word in row_words if word not in stop_words]\n",
    "    #print(row_words)\n",
    "    #print('----')\n",
    "    return ' '.join(row_words)\n",
    "\n",
    "docs_clean=docs.apply(lambda v: clean_text(v))"
   ]
  },
  {
   "cell_type": "code",
   "execution_count": 159,
   "metadata": {},
   "outputs": [],
   "source": [
    "from wordcloud import WordCloud\n",
    "import matplotlib.pyplot as plt"
   ]
  },
  {
   "cell_type": "code",
   "execution_count": 160,
   "metadata": {},
   "outputs": [
    {
     "data": {
      "text/plain": [
       "<matplotlib.image.AxesImage at 0x1fb82e7efd0>"
      ]
     },
     "execution_count": 160,
     "metadata": {},
     "output_type": "execute_result"
    },
    {
     "data": {
      "image/png": "[encoded data removed]",
      "text/plain": [
       "<Figure size 432x288 with 1 Axes>"
      ]
     },
     "metadata": {
      "needs_background": "light"
     },
     "output_type": "display_data"
    }
   ],
   "source": [
    "wc=WordCloud().generate(' '.join(docs))\n",
    "plt.imshow(wc)"
   ]
  },
  {
   "cell_type": "code",
   "execution_count": 161,
   "metadata": {},
   "outputs": [
    {
     "name": "stderr",
     "output_type": "stream",
     "text": [
      "[nltk_data] Downloading package vader_lexicon to C:\\Users\\sreekar\n",
      "[nltk_data]     chidurala\\AppData\\Roaming\\nltk_data...\n",
      "[nltk_data]   Package vader_lexicon is already up-to-date!\n"
     ]
    },
    {
     "data": {
      "text/plain": [
       "True"
      ]
     },
     "execution_count": 161,
     "metadata": {},
     "output_type": "execute_result"
    }
   ],
   "source": [
    "nltk.download('vader_lexicon')"
   ]
  },
  {
   "cell_type": "code",
   "execution_count": 162,
   "metadata": {},
   "outputs": [],
   "source": [
    "#!pip install twython"
   ]
  },
  {
   "cell_type": "code",
   "execution_count": 163,
   "metadata": {},
   "outputs": [],
   "source": [
    "from nltk.sentiment.vader import SentimentIntensityAnalyzer"
   ]
  },
  {
   "cell_type": "code",
   "execution_count": 164,
   "metadata": {},
   "outputs": [],
   "source": [
    "senti=SentimentIntensityAnalyzer()"
   ]
  },
  {
   "cell_type": "code",
   "execution_count": 165,
   "metadata": {},
   "outputs": [],
   "source": [
    "def get_sentiment_score(review):\n",
    "    compound_score=senti.polarity_scores(review)['compound']\n",
    "    return compound_score\n",
    "def get_sentiment(score):\n",
    "    if score>0.25:\n",
    "        return 'Positive'\n",
    "    elif score <-.25:\n",
    "        return \"negitive\"\n",
    "    else:\n",
    "        return 'Neutral'"
   ]
  },
  {
   "cell_type": "code",
   "execution_count": 166,
   "metadata": {},
   "outputs": [
    {
     "data": {
      "text/plain": [
       "'Positive'"
      ]
     },
     "execution_count": 166,
     "metadata": {},
     "output_type": "execute_result"
    }
   ],
   "source": [
    "def get_sentiment(score):\n",
    "    if score>0.25:\n",
    "        return 'Positive'\n",
    "    elif score <-.25:\n",
    "        return \"negitive\"\n",
    "    else:\n",
    "        return \"neutral\"\n",
    "\n",
    "get_sentiment(.26)"
   ]
  },
  {
   "cell_type": "code",
   "execution_count": 167,
   "metadata": {},
   "outputs": [
    {
     "data": {
      "text/plain": [
       "subject                              object\n",
       "Customer                             object\n",
       "Location                             object\n",
       "Rating                                int64\n",
       "date_time                    datetime64[ns]\n",
       "Views                                object\n",
       "complaint                            object\n",
       "Total_reviews_by_customer            object\n",
       "dtype: object"
      ]
     },
     "execution_count": 167,
     "metadata": {},
     "output_type": "execute_result"
    }
   ],
   "source": [
    "data.dtypes"
   ]
  },
  {
   "cell_type": "code",
   "execution_count": null,
   "metadata": {},
   "outputs": [],
   "source": []
  },
  {
   "cell_type": "code",
   "execution_count": null,
   "metadata": {},
   "outputs": [],
   "source": []
  },
  {
   "cell_type": "code",
   "execution_count": 168,
   "metadata": {},
   "outputs": [
    {
     "data": {
      "text/plain": [
       "subject                              object\n",
       "Customer                             object\n",
       "Location                             object\n",
       "Rating                                int64\n",
       "date_time                    datetime64[ns]\n",
       "Views                                object\n",
       "complaint                            object\n",
       "Total_reviews_by_customer            object\n",
       "dtype: object"
      ]
     },
     "execution_count": 168,
     "metadata": {},
     "output_type": "execute_result"
    }
   ],
   "source": [
    "data.dtypes"
   ]
  },
  {
   "cell_type": "code",
   "execution_count": 169,
   "metadata": {},
   "outputs": [],
   "source": [
    "data['sentiment_score']=data[\"subject\"].apply(get_sentiment_score)\n"
   ]
  },
  {
   "cell_type": "code",
   "execution_count": 170,
   "metadata": {},
   "outputs": [
    {
     "data": {
      "text/plain": [
       "subject                              object\n",
       "Customer                             object\n",
       "Location                             object\n",
       "Rating                                int64\n",
       "date_time                    datetime64[ns]\n",
       "Views                                object\n",
       "complaint                            object\n",
       "Total_reviews_by_customer            object\n",
       "sentiment_score                     float64\n",
       "dtype: object"
      ]
     },
     "execution_count": 170,
     "metadata": {},
     "output_type": "execute_result"
    }
   ],
   "source": [
    "data.dtypes"
   ]
  },
  {
   "cell_type": "code",
   "execution_count": 171,
   "metadata": {},
   "outputs": [],
   "source": [
    "data[\"sentiment_vader\"]=data[\"sentiment_score\"].apply(get_sentiment)"
   ]
  },
  {
   "cell_type": "code",
   "execution_count": 172,
   "metadata": {},
   "outputs": [
    {
     "data": {
      "text/html": [
       "<div>\n",
       "<style scoped>\n",
       "    .dataframe tbody tr th:only-of-type {\n",
       "        vertical-align: middle;\n",
       "    }\n",
       "\n",
       "    .dataframe tbody tr th {\n",
       "        vertical-align: top;\n",
       "    }\n",
       "\n",
       "    .dataframe thead th {\n",
       "        text-align: right;\n",
       "    }\n",
       "</style>\n",
       "<table border=\"1\" class=\"dataframe\">\n",
       "  <thead>\n",
       "    <tr style=\"text-align: right;\">\n",
       "      <th></th>\n",
       "      <th>subject</th>\n",
       "      <th>Customer</th>\n",
       "      <th>Location</th>\n",
       "      <th>Rating</th>\n",
       "      <th>date_time</th>\n",
       "      <th>Views</th>\n",
       "      <th>complaint</th>\n",
       "      <th>Total_reviews_by_customer</th>\n",
       "      <th>sentiment_score</th>\n",
       "      <th>sentiment_vader</th>\n",
       "    </tr>\n",
       "  </thead>\n",
       "  <tbody>\n",
       "    <tr>\n",
       "      <th>0</th>\n",
       "      <td>Cheaters</td>\n",
       "      <td>ambajirao_a</td>\n",
       "      <td>Bangalore India</td>\n",
       "      <td>1</td>\n",
       "      <td>2014-04-22 17:22:00</td>\n",
       "      <td>9558 Views</td>\n",
       "      <td>Third class service and they are cheaters. Nev...</td>\n",
       "      <td>2 Reviews</td>\n",
       "      <td>-0.4404</td>\n",
       "      <td>negitive</td>\n",
       "    </tr>\n",
       "    <tr>\n",
       "      <th>1</th>\n",
       "      <td>Well, think again!!!!!</td>\n",
       "      <td>deekshasethi</td>\n",
       "      <td>new delhi india</td>\n",
       "      <td>4</td>\n",
       "      <td>2006-03-13 21:41:00</td>\n",
       "      <td>3548 Views</td>\n",
       "      <td>Its true that insurance is a services based in...</td>\n",
       "      <td>7 Reviews</td>\n",
       "      <td>0.5053</td>\n",
       "      <td>Positive</td>\n",
       "    </tr>\n",
       "    <tr>\n",
       "      <th>2</th>\n",
       "      <td>Metlife is the worst insurance company</td>\n",
       "      <td>lijok</td>\n",
       "      <td>Kochi India</td>\n",
       "      <td>1</td>\n",
       "      <td>2013-06-04 09:08:00</td>\n",
       "      <td>9311 Views</td>\n",
       "      <td>I have taken a Metlife policy in 2008 August w...</td>\n",
       "      <td>1 Review</td>\n",
       "      <td>-0.6249</td>\n",
       "      <td>negitive</td>\n",
       "    </tr>\n",
       "    <tr>\n",
       "      <th>3</th>\n",
       "      <td>HAVE U MET LIFE TODAY??????</td>\n",
       "      <td>Kiran4</td>\n",
       "      <td>mumbai india</td>\n",
       "      <td>4</td>\n",
       "      <td>2004-10-14 14:06:00</td>\n",
       "      <td>15309 Views</td>\n",
       "      <td>Scene 1 : A lady weeping besides the dead body...</td>\n",
       "      <td>15 Reviews</td>\n",
       "      <td>0.0000</td>\n",
       "      <td>neutral</td>\n",
       "    </tr>\n",
       "    <tr>\n",
       "      <th>4</th>\n",
       "      <td>Irresponsible persons  working over there in PNB</td>\n",
       "      <td>srikanthkumar.a</td>\n",
       "      <td>Bengaluru/ Bangalore India</td>\n",
       "      <td>1</td>\n",
       "      <td>2017-05-31 19:30:00</td>\n",
       "      <td>3480 Views</td>\n",
       "      <td>Once policy created, no one look back  to cust...</td>\n",
       "      <td>1 Review</td>\n",
       "      <td>-0.4404</td>\n",
       "      <td>negitive</td>\n",
       "    </tr>\n",
       "  </tbody>\n",
       "</table>\n",
       "</div>"
      ],
      "text/plain": [
       "                                            subject         Customer  \\\n",
       "0                                          Cheaters      ambajirao_a   \n",
       "1                            Well, think again!!!!!     deekshasethi   \n",
       "2            Metlife is the worst insurance company            lijok   \n",
       "3                       HAVE U MET LIFE TODAY??????           Kiran4   \n",
       "4  Irresponsible persons  working over there in PNB  srikanthkumar.a   \n",
       "\n",
       "                     Location  Rating           date_time        Views  \\\n",
       "0             Bangalore India       1 2014-04-22 17:22:00   9558 Views   \n",
       "1             new delhi india       4 2006-03-13 21:41:00   3548 Views   \n",
       "2                 Kochi India       1 2013-06-04 09:08:00   9311 Views   \n",
       "3                mumbai india       4 2004-10-14 14:06:00  15309 Views   \n",
       "4  Bengaluru/ Bangalore India       1 2017-05-31 19:30:00   3480 Views   \n",
       "\n",
       "                                           complaint  \\\n",
       "0  Third class service and they are cheaters. Nev...   \n",
       "1  Its true that insurance is a services based in...   \n",
       "2  I have taken a Metlife policy in 2008 August w...   \n",
       "3  Scene 1 : A lady weeping besides the dead body...   \n",
       "4  Once policy created, no one look back  to cust...   \n",
       "\n",
       "  Total_reviews_by_customer  sentiment_score sentiment_vader  \n",
       "0                 2 Reviews          -0.4404        negitive  \n",
       "1                 7 Reviews           0.5053        Positive  \n",
       "2                  1 Review          -0.6249        negitive  \n",
       "3                15 Reviews           0.0000         neutral  \n",
       "4                  1 Review          -0.4404        negitive  "
      ]
     },
     "execution_count": 172,
     "metadata": {},
     "output_type": "execute_result"
    }
   ],
   "source": [
    "data.head()"
   ]
  },
  {
   "cell_type": "code",
   "execution_count": 173,
   "metadata": {},
   "outputs": [
    {
     "data": {
      "text/plain": [
       "<matplotlib.axes._subplots.AxesSubplot at 0x1fb833c0da0>"
      ]
     },
     "execution_count": 173,
     "metadata": {},
     "output_type": "execute_result"
    },
    {
     "data": {
      "image/png": "[encoded data removed]",
      "text/plain": [
       "<Figure size 432x288 with 1 Axes>"
      ]
     },
     "metadata": {
      "needs_background": "light"
     },
     "output_type": "display_data"
    }
   ],
   "source": [
    "data[\"sentiment_score\"].plot.hist()"
   ]
  },
  {
   "cell_type": "code",
   "execution_count": 174,
   "metadata": {},
   "outputs": [
    {
     "data": {
      "text/plain": [
       "<matplotlib.axes._subplots.AxesSubplot at 0x1fb81bafef0>"
      ]
     },
     "execution_count": 174,
     "metadata": {},
     "output_type": "execute_result"
    },
    {
     "data": {
      "image/png": "[encoded data removed]",
      "text/plain": [
       "<Figure size 432x288 with 1 Axes>"
      ]
     },
     "metadata": {
      "needs_background": "light"
     },
     "output_type": "display_data"
    }
   ],
   "source": [
    "data['sentiment_vader'].value_counts().plot.barh()"
   ]
  },
  {
   "cell_type": "code",
   "execution_count": 175,
   "metadata": {},
   "outputs": [],
   "source": [
    "#negitive reviews"
   ]
  },
  {
   "cell_type": "code",
   "execution_count": 176,
   "metadata": {},
   "outputs": [],
   "source": [
    "#ratings"
   ]
  },
  {
   "cell_type": "code",
   "execution_count": 177,
   "metadata": {},
   "outputs": [
    {
     "data": {
      "text/plain": [
       "<matplotlib.axes._subplots.AxesSubplot at 0x1fb818febe0>"
      ]
     },
     "execution_count": 177,
     "metadata": {},
     "output_type": "execute_result"
    },
    {
     "data": {
      "image/png": "[encoded data removed]",
      "text/plain": [
       "<Figure size 432x288 with 1 Axes>"
      ]
     },
     "metadata": {
      "needs_background": "light"
     },
     "output_type": "display_data"
    }
   ],
   "source": [
    "data['Rating'].value_counts().plot.barh()"
   ]
  },
  {
   "cell_type": "code",
   "execution_count": 178,
   "metadata": {},
   "outputs": [],
   "source": [
    "#it says that all the customers are not satisfied with products"
   ]
  },
  {
   "cell_type": "code",
   "execution_count": 179,
   "metadata": {},
   "outputs": [],
   "source": [
    "#word cloud on complaints"
   ]
  },
  {
   "cell_type": "code",
   "execution_count": 180,
   "metadata": {},
   "outputs": [
    {
     "data": {
      "text/plain": [
       "0    third class service and they are cheaters neve...\n",
       "1    its true that insurance is a services based in...\n",
       "2    i have taken a metlife policy in  august when ...\n",
       "3    scene   a lady weeping besides the dead body o...\n",
       "4    once policy created no one look back  to custo...\n",
       "Name: complaint, dtype: object"
      ]
     },
     "execution_count": 180,
     "metadata": {},
     "output_type": "execute_result"
    }
   ],
   "source": [
    "docs=data['complaint'].str.lower()\n",
    "docs.head()\n",
    "docs=docs.str.replace('[^a-z #@]','') # retain all alphabets with #@\n",
    "docs.head()"
   ]
  },
  {
   "cell_type": "code",
   "execution_count": 181,
   "metadata": {},
   "outputs": [],
   "source": [
    "stemmer=nltk.PorterStemmer()\n",
    "def clean_text(row_text):\n",
    "    #print(type(row_text))\n",
    "    row_words=row_text.split(' ')\n",
    "    #print(row_words)\n",
    "    row_words= [stemmer.stem(word) for word in row_words if word not in stop_words]\n",
    "    #print(row_words)\n",
    "    #print('----')\n",
    "    return ' '.join(row_words)\n",
    "\n",
    "docs_clean=docs.apply(lambda v: clean_text(v))"
   ]
  },
  {
   "cell_type": "code",
   "execution_count": 182,
   "metadata": {},
   "outputs": [
    {
     "data": {
      "text/plain": [
       "<matplotlib.image.AxesImage at 0x1fb82f62eb8>"
      ]
     },
     "execution_count": 182,
     "metadata": {},
     "output_type": "execute_result"
    },
    {
     "data": {
      "image/png": "[encoded data removed]",
      "text/plain": [
       "<Figure size 432x288 with 1 Axes>"
      ]
     },
     "metadata": {
      "needs_background": "light"
     },
     "output_type": "display_data"
    }
   ],
   "source": [
    "wc=WordCloud().generate(' '.join(docs))\n",
    "plt.imshow(wc)"
   ]
  },
  {
   "cell_type": "code",
   "execution_count": 183,
   "metadata": {},
   "outputs": [
    {
     "data": {
      "text/plain": [
       "array(['Bangalore India', 'new delhi india', 'Kochi India',\n",
       "       'mumbai india', 'Bengaluru/ Bangalore India', 'Chennai India',\n",
       "       'Dwarka India', 'banglaore india', 'Delhi India',\n",
       "       'Chandigarh India', 'Bangalore Inida', 'New Delhi, India India',\n",
       "       'Miamisburg OH India', 'India', 'Bangalore BE', 'noida India',\n",
       "       'Hyderabad India', 'Rani Bagh India', 'Mumbai India',\n",
       "       'greater noida India', 'Mumbai, India India', 'Jamshedpur India',\n",
       "       'New Delhi India', 'Mumbai, Maharashtra, India India',\n",
       "       'ludhiana India', 'Rohtak India', 'Pune India', 'Gurgaon India',\n",
       "       'Kolkata India', 'Noida, India India', 'BHOPAL India',\n",
       "       'Amherst USA', 'Karnataka India', 'chennai India',\n",
       "       'Bangalore, India India', 'kolkata India', 'Rishikesh India',\n",
       "       'Noida India', 'Lucknow India', 'bangalore India',\n",
       "       'Mangalore India', 'Allahabad, India India', 'Kottayam India',\n",
       "       'Ajmer India', 'gurgaon India', 'thane India', 'Bhadra India',\n",
       "       'Ahmedabad India', 'Faridabad India', 'Del India',\n",
       "       'Kharagpur India', 'new delhi India', 'Hubli India', 'salem India',\n",
       "       'Vijayawada India', 'Pune INDIA', 'Jaipur  India', 'Thane India',\n",
       "       'Coimbatore, Tamil Nadu India', 'Morinda India', 'mumbai India',\n",
       "       'Trichy India', 'Cochin India', 'bangalore india',\n",
       "       'Jaipur, Rajasthan India', 'Tezpur India'], dtype=object)"
      ]
     },
     "execution_count": 183,
     "metadata": {},
     "output_type": "execute_result"
    }
   ],
   "source": [
    "data.Location.unique()"
   ]
  },
  {
   "cell_type": "code",
   "execution_count": 199,
   "metadata": {},
   "outputs": [
    {
     "data": {
      "text/plain": [
       "array(['bangaloreindia', 'newdelhiindia', 'kochiindia', 'mumbaiindia',\n",
       "       'bengalurubangaloreindia', 'chennaiindia', 'dwarkaindia',\n",
       "       'banglaoreindia', 'delhiindia', 'chandigarhindia',\n",
       "       'bangaloreinida', 'newdelhiindiaindia', 'miamisburgohindia',\n",
       "       'india', 'bangalorebe', 'noidaindia', 'hyderabadindia',\n",
       "       'ranibaghindia', 'greaternoidaindia', 'mumbaiindiaindia',\n",
       "       'jamshedpurindia', 'mumbaimaharashtraindiaindia', 'ludhianaindia',\n",
       "       'rohtakindia', 'puneindia', 'gurgaonindia', 'kolkataindia',\n",
       "       'noidaindiaindia', 'bhopalindia', 'amherstusa', 'karnatakaindia',\n",
       "       'bangaloreindiaindia', 'rishikeshindia', 'lucknowindia',\n",
       "       'mangaloreindia', 'allahabadindiaindia', 'kottayamindia',\n",
       "       'ajmerindia', 'thaneindia', 'bhadraindia', 'ahmedabadindia',\n",
       "       'faridabadindia', 'delindia', 'kharagpurindia', 'hubliindia',\n",
       "       'salemindia', 'vijayawadaindia', 'jaipurindia',\n",
       "       'coimbatoretamilnaduindia', 'morindaindia', 'trichyindia',\n",
       "       'cochinindia', 'jaipurrajasthanindia', 'tezpurindia'], dtype=object)"
      ]
     },
     "execution_count": 199,
     "metadata": {},
     "output_type": "execute_result"
    }
   ],
   "source": [
    "city=data['Location'].str.lower()\n",
    "city=city.str.replace('[^a-z#@]','')\n",
    "#city=city.str.replace('[india]','')\n",
    "city.unique()\n"
   ]
  },
  {
   "cell_type": "code",
   "execution_count": 190,
   "metadata": {},
   "outputs": [],
   "source": [
    "#delete=[' india']"
   ]
  },
  {
   "cell_type": "code",
   "execution_count": 191,
   "metadata": {},
   "outputs": [],
   "source": [
    "#city= [word for word in city if word not in delete]"
   ]
  },
  {
   "cell_type": "code",
   "execution_count": 192,
   "metadata": {},
   "outputs": [
    {
     "data": {
      "text/plain": [
       "125"
      ]
     },
     "execution_count": 192,
     "metadata": {},
     "output_type": "execute_result"
    }
   ],
   "source": [
    "#len(city)"
   ]
  },
  {
   "cell_type": "code",
   "execution_count": 200,
   "metadata": {},
   "outputs": [],
   "source": [
    "data[\"clean_location\"]=city"
   ]
  },
  {
   "cell_type": "code",
   "execution_count": 201,
   "metadata": {},
   "outputs": [
    {
     "data": {
      "text/plain": [
       "array(['bangaloreindia', 'newdelhiindia', 'kochiindia', 'mumbaiindia',\n",
       "       'bengalurubangaloreindia', 'chennaiindia', 'dwarkaindia',\n",
       "       'banglaoreindia', 'delhiindia', 'chandigarhindia',\n",
       "       'bangaloreinida', 'newdelhiindiaindia', 'miamisburgohindia',\n",
       "       'india', 'bangalorebe', 'noidaindia', 'hyderabadindia',\n",
       "       'ranibaghindia', 'greaternoidaindia', 'mumbaiindiaindia',\n",
       "       'jamshedpurindia', 'mumbaimaharashtraindiaindia', 'ludhianaindia',\n",
       "       'rohtakindia', 'puneindia', 'gurgaonindia', 'kolkataindia',\n",
       "       'noidaindiaindia', 'bhopalindia', 'amherstusa', 'karnatakaindia',\n",
       "       'bangaloreindiaindia', 'rishikeshindia', 'lucknowindia',\n",
       "       'mangaloreindia', 'allahabadindiaindia', 'kottayamindia',\n",
       "       'ajmerindia', 'thaneindia', 'bhadraindia', 'ahmedabadindia',\n",
       "       'faridabadindia', 'delindia', 'kharagpurindia', 'hubliindia',\n",
       "       'salemindia', 'vijayawadaindia', 'jaipurindia',\n",
       "       'coimbatoretamilnaduindia', 'morindaindia', 'trichyindia',\n",
       "       'cochinindia', 'jaipurrajasthanindia', 'tezpurindia'], dtype=object)"
      ]
     },
     "execution_count": 201,
     "metadata": {},
     "output_type": "execute_result"
    }
   ],
   "source": [
    "data[\"clean_location\"].unique()"
   ]
  },
  {
   "cell_type": "code",
   "execution_count": 204,
   "metadata": {},
   "outputs": [],
   "source": [
    "def getname(name):\n",
    "    title_group = {'bangaloreindia':'Banglore','newdelhiindia':\"Delhi\",'kochiindia':\"Kochi\", 'mumbaiindia':'Mumbai',\n",
    "       'bengalurubangaloreindia':\"Baanglore\", 'chennaiindia':\"Chennai\", 'dwarkaindia':\"Dwaraka\",\n",
    "       'banglaoreindia':\"Banglore\", 'delhiindia':\"Delhi\", 'chandigarhindia':\"Chandigarh\",\n",
    "       'bangaloreinida':\"Banglore\", 'newdelhiindiaindia':\"Delhi\", 'miamisburgohindia':\"Miamisburgoh\",\n",
    "       'india':\"India\", 'bangalorebe':\"Banglore\", 'noidaindia':\"Noida\", 'hyderabadindia':\"Hyderabad\",\n",
    "       'ranibaghindia':\"Ranibagh\", 'greaternoidaindia':\"Noida\", 'mumbaiindiaindia':\"Mumbai\",\n",
    "       'jamshedpurindia':\"Jamshedpur\", 'mumbaimaharashtraindiaindia':\"Mumbai\", 'ludhianaindia':\"Ludhiana\",\n",
    "       'rohtakindia':\"Rohtak\", 'puneindia':\"Pune\", 'gurgaonindia':\"Gurgaon\", 'kolkataindia':\"Kolkatha\",\n",
    "       'noidaindiaindia':\"Noida\", 'bhopalindia':\"Bhopal\", 'amherstusa':\"AMhertusa\", 'karnatakaindia':\"Banglore\",\n",
    "       'bangaloreindiaindia':\"Banglore\", 'rishikeshindia':\"Rishikesh\", 'lucknowindia':\"Lucknow\",\n",
    "       'mangaloreindia':\"Manglore\", 'allahabadindiaindia':\"Allahabad\", 'kottayamindia':\"Kottayam\",\n",
    "       'ajmerindia':\"Ajmer\", 'thaneindia':\"Thane\", 'bhadraindia':\"Bhadra\", 'ahmedabadindia':\"Ahmedabad\",\n",
    "       'faridabadindia':\"Faridabad\", 'delindia':\"Delhi\", 'kharagpurindia':\"Kharagpur\", 'hubliindia':\"Hubli\",\n",
    "       'salemindia':\"Salem\", 'vijayawadaindia':\"Vijaywada\", 'jaipurindia':\"Jaipur\",\n",
    "       'coimbatoretamilnaduindia':\"Coimbatore\", 'morindaindia':\"India\", 'trichyindia':\"Trichy\",\n",
    "       'cochinindia':\"Cochin\", 'jaipurrajasthanindia':\"Jaipur\", 'tezpurindia':\"Tezpur\"}  \n",
    "    return title_group[name]\n",
    "data['clean_location']=data.clean_location.map(lambda x : getname(x))"
   ]
  },
  {
   "cell_type": "code",
   "execution_count": 206,
   "metadata": {},
   "outputs": [
    {
     "data": {
      "text/plain": [
       "array(['Banglore', 'Delhi', 'Kochi', 'Mumbai', 'Baanglore', 'Chennai',\n",
       "       'Dwaraka', 'Chandigarh', 'Miamisburgoh', 'India', 'Noida',\n",
       "       'Hyderabad', 'Ranibagh', 'Jamshedpur', 'Ludhiana', 'Rohtak',\n",
       "       'Pune', 'Gurgaon', 'Kolkatha', 'Bhopal', 'AMhertusa', 'Rishikesh',\n",
       "       'Lucknow', 'Manglore', 'Allahabad', 'Kottayam', 'Ajmer', 'Thane',\n",
       "       'Bhadra', 'Ahmedabad', 'Faridabad', 'Kharagpur', 'Hubli', 'Salem',\n",
       "       'Vijaywada', 'Jaipur', 'Coimbatore', 'Trichy', 'Cochin', 'Tezpur'],\n",
       "      dtype=object)"
      ]
     },
     "execution_count": 206,
     "metadata": {},
     "output_type": "execute_result"
    }
   ],
   "source": [
    "data.clean_location.unique()"
   ]
  },
  {
   "cell_type": "code",
   "execution_count": 221,
   "metadata": {},
   "outputs": [
    {
     "data": {
      "text/plain": [
       "<matplotlib.axes._subplots.AxesSubplot at 0x1fb834bee10>"
      ]
     },
     "execution_count": 221,
     "metadata": {},
     "output_type": "execute_result"
    },
    {
     "data": {
      "image/png": "[encoded data removed]",
      "text/plain": [
       "<Figure size 720x576 with 1 Axes>"
      ]
     },
     "metadata": {
      "needs_background": "light"
     },
     "output_type": "display_data"
    }
   ],
   "source": [
    "plt.figure(figsize=(10,8))\n",
    "data['clean_location'].value_counts().plot.barh()"
   ]
  },
  {
   "cell_type": "code",
   "execution_count": null,
   "metadata": {},
   "outputs": [],
   "source": [
    "##Banglore has large no. of customers"
   ]
  },
  {
   "cell_type": "code",
   "execution_count": 209,
   "metadata": {},
   "outputs": [
    {
     "data": {
      "text/html": [
       "<div>\n",
       "<style scoped>\n",
       "    .dataframe tbody tr th:only-of-type {\n",
       "        vertical-align: middle;\n",
       "    }\n",
       "\n",
       "    .dataframe tbody tr th {\n",
       "        vertical-align: top;\n",
       "    }\n",
       "\n",
       "    .dataframe thead th {\n",
       "        text-align: right;\n",
       "    }\n",
       "</style>\n",
       "<table border=\"1\" class=\"dataframe\">\n",
       "  <thead>\n",
       "    <tr style=\"text-align: right;\">\n",
       "      <th></th>\n",
       "      <th>subject</th>\n",
       "      <th>Customer</th>\n",
       "      <th>Location</th>\n",
       "      <th>Rating</th>\n",
       "      <th>date_time</th>\n",
       "      <th>Views</th>\n",
       "      <th>complaint</th>\n",
       "      <th>Total_reviews_by_customer</th>\n",
       "      <th>sentiment_score</th>\n",
       "      <th>sentiment_vader</th>\n",
       "      <th>clean_location</th>\n",
       "    </tr>\n",
       "  </thead>\n",
       "  <tbody>\n",
       "    <tr>\n",
       "      <th>0</th>\n",
       "      <td>Cheaters</td>\n",
       "      <td>ambajirao_a</td>\n",
       "      <td>Bangalore India</td>\n",
       "      <td>1</td>\n",
       "      <td>2014-04-22 17:22:00</td>\n",
       "      <td>9558 Views</td>\n",
       "      <td>Third class service and they are cheaters. Nev...</td>\n",
       "      <td>2 Reviews</td>\n",
       "      <td>-0.4404</td>\n",
       "      <td>negitive</td>\n",
       "      <td>Banglore</td>\n",
       "    </tr>\n",
       "    <tr>\n",
       "      <th>1</th>\n",
       "      <td>Well, think again!!!!!</td>\n",
       "      <td>deekshasethi</td>\n",
       "      <td>new delhi india</td>\n",
       "      <td>4</td>\n",
       "      <td>2006-03-13 21:41:00</td>\n",
       "      <td>3548 Views</td>\n",
       "      <td>Its true that insurance is a services based in...</td>\n",
       "      <td>7 Reviews</td>\n",
       "      <td>0.5053</td>\n",
       "      <td>Positive</td>\n",
       "      <td>Delhi</td>\n",
       "    </tr>\n",
       "    <tr>\n",
       "      <th>2</th>\n",
       "      <td>Metlife is the worst insurance company</td>\n",
       "      <td>lijok</td>\n",
       "      <td>Kochi India</td>\n",
       "      <td>1</td>\n",
       "      <td>2013-06-04 09:08:00</td>\n",
       "      <td>9311 Views</td>\n",
       "      <td>I have taken a Metlife policy in 2008 August w...</td>\n",
       "      <td>1 Review</td>\n",
       "      <td>-0.6249</td>\n",
       "      <td>negitive</td>\n",
       "      <td>Kochi</td>\n",
       "    </tr>\n",
       "    <tr>\n",
       "      <th>3</th>\n",
       "      <td>HAVE U MET LIFE TODAY??????</td>\n",
       "      <td>Kiran4</td>\n",
       "      <td>mumbai india</td>\n",
       "      <td>4</td>\n",
       "      <td>2004-10-14 14:06:00</td>\n",
       "      <td>15309 Views</td>\n",
       "      <td>Scene 1 : A lady weeping besides the dead body...</td>\n",
       "      <td>15 Reviews</td>\n",
       "      <td>0.0000</td>\n",
       "      <td>neutral</td>\n",
       "      <td>Mumbai</td>\n",
       "    </tr>\n",
       "    <tr>\n",
       "      <th>4</th>\n",
       "      <td>Irresponsible persons  working over there in PNB</td>\n",
       "      <td>srikanthkumar.a</td>\n",
       "      <td>Bengaluru/ Bangalore India</td>\n",
       "      <td>1</td>\n",
       "      <td>2017-05-31 19:30:00</td>\n",
       "      <td>3480 Views</td>\n",
       "      <td>Once policy created, no one look back  to cust...</td>\n",
       "      <td>1 Review</td>\n",
       "      <td>-0.4404</td>\n",
       "      <td>negitive</td>\n",
       "      <td>Baanglore</td>\n",
       "    </tr>\n",
       "  </tbody>\n",
       "</table>\n",
       "</div>"
      ],
      "text/plain": [
       "                                            subject         Customer  \\\n",
       "0                                          Cheaters      ambajirao_a   \n",
       "1                            Well, think again!!!!!     deekshasethi   \n",
       "2            Metlife is the worst insurance company            lijok   \n",
       "3                       HAVE U MET LIFE TODAY??????           Kiran4   \n",
       "4  Irresponsible persons  working over there in PNB  srikanthkumar.a   \n",
       "\n",
       "                     Location  Rating           date_time        Views  \\\n",
       "0             Bangalore India       1 2014-04-22 17:22:00   9558 Views   \n",
       "1             new delhi india       4 2006-03-13 21:41:00   3548 Views   \n",
       "2                 Kochi India       1 2013-06-04 09:08:00   9311 Views   \n",
       "3                mumbai india       4 2004-10-14 14:06:00  15309 Views   \n",
       "4  Bengaluru/ Bangalore India       1 2017-05-31 19:30:00   3480 Views   \n",
       "\n",
       "                                           complaint  \\\n",
       "0  Third class service and they are cheaters. Nev...   \n",
       "1  Its true that insurance is a services based in...   \n",
       "2  I have taken a Metlife policy in 2008 August w...   \n",
       "3  Scene 1 : A lady weeping besides the dead body...   \n",
       "4  Once policy created, no one look back  to cust...   \n",
       "\n",
       "  Total_reviews_by_customer  sentiment_score sentiment_vader clean_location  \n",
       "0                 2 Reviews          -0.4404        negitive       Banglore  \n",
       "1                 7 Reviews           0.5053        Positive          Delhi  \n",
       "2                  1 Review          -0.6249        negitive          Kochi  \n",
       "3                15 Reviews           0.0000         neutral         Mumbai  \n",
       "4                  1 Review          -0.4404        negitive      Baanglore  "
      ]
     },
     "execution_count": 209,
     "metadata": {},
     "output_type": "execute_result"
    }
   ],
   "source": [
    "data.head()"
   ]
  },
  {
   "cell_type": "code",
   "execution_count": 230,
   "metadata": {},
   "outputs": [
    {
     "data": {
      "text/plain": [
       "<Figure size 1440x1584 with 0 Axes>"
      ]
     },
     "metadata": {},
     "output_type": "display_data"
    },
    {
     "data": {
      "image/png": "[encoded data removed]",
      "text/plain": [
       "<Figure size 1296x576 with 1 Axes>"
      ]
     },
     "metadata": {
      "needs_background": "light"
     },
     "output_type": "display_data"
    }
   ],
   "source": [
    "plt.figure(figsize=(20,22))\n",
    "pd.crosstab(data.clean_location,data.sentiment_vader).plot(kind='bar',figsize=(18,8));"
   ]
  },
  {
   "cell_type": "code",
   "execution_count": 222,
   "metadata": {},
   "outputs": [
    {
     "data": {
      "text/html": [
       "<div>\n",
       "<style scoped>\n",
       "    .dataframe tbody tr th:only-of-type {\n",
       "        vertical-align: middle;\n",
       "    }\n",
       "\n",
       "    .dataframe tbody tr th {\n",
       "        vertical-align: top;\n",
       "    }\n",
       "\n",
       "    .dataframe thead th {\n",
       "        text-align: right;\n",
       "    }\n",
       "</style>\n",
       "<table border=\"1\" class=\"dataframe\">\n",
       "  <thead>\n",
       "    <tr style=\"text-align: right;\">\n",
       "      <th>sentiment_vader</th>\n",
       "      <th>Positive</th>\n",
       "      <th>negitive</th>\n",
       "      <th>neutral</th>\n",
       "    </tr>\n",
       "    <tr>\n",
       "      <th>clean_location</th>\n",
       "      <th></th>\n",
       "      <th></th>\n",
       "      <th></th>\n",
       "    </tr>\n",
       "  </thead>\n",
       "  <tbody>\n",
       "    <tr>\n",
       "      <th>AMhertusa</th>\n",
       "      <td>1</td>\n",
       "      <td>0</td>\n",
       "      <td>0</td>\n",
       "    </tr>\n",
       "    <tr>\n",
       "      <th>Ahmedabad</th>\n",
       "      <td>0</td>\n",
       "      <td>1</td>\n",
       "      <td>0</td>\n",
       "    </tr>\n",
       "    <tr>\n",
       "      <th>Ajmer</th>\n",
       "      <td>0</td>\n",
       "      <td>0</td>\n",
       "      <td>1</td>\n",
       "    </tr>\n",
       "    <tr>\n",
       "      <th>Allahabad</th>\n",
       "      <td>0</td>\n",
       "      <td>1</td>\n",
       "      <td>0</td>\n",
       "    </tr>\n",
       "    <tr>\n",
       "      <th>Baanglore</th>\n",
       "      <td>0</td>\n",
       "      <td>1</td>\n",
       "      <td>0</td>\n",
       "    </tr>\n",
       "    <tr>\n",
       "      <th>Banglore</th>\n",
       "      <td>5</td>\n",
       "      <td>13</td>\n",
       "      <td>14</td>\n",
       "    </tr>\n",
       "    <tr>\n",
       "      <th>Bhadra</th>\n",
       "      <td>0</td>\n",
       "      <td>0</td>\n",
       "      <td>1</td>\n",
       "    </tr>\n",
       "    <tr>\n",
       "      <th>Bhopal</th>\n",
       "      <td>1</td>\n",
       "      <td>0</td>\n",
       "      <td>0</td>\n",
       "    </tr>\n",
       "    <tr>\n",
       "      <th>Chandigarh</th>\n",
       "      <td>0</td>\n",
       "      <td>0</td>\n",
       "      <td>1</td>\n",
       "    </tr>\n",
       "    <tr>\n",
       "      <th>Chennai</th>\n",
       "      <td>2</td>\n",
       "      <td>1</td>\n",
       "      <td>0</td>\n",
       "    </tr>\n",
       "    <tr>\n",
       "      <th>Cochin</th>\n",
       "      <td>0</td>\n",
       "      <td>1</td>\n",
       "      <td>0</td>\n",
       "    </tr>\n",
       "    <tr>\n",
       "      <th>Coimbatore</th>\n",
       "      <td>0</td>\n",
       "      <td>0</td>\n",
       "      <td>1</td>\n",
       "    </tr>\n",
       "    <tr>\n",
       "      <th>Delhi</th>\n",
       "      <td>3</td>\n",
       "      <td>5</td>\n",
       "      <td>5</td>\n",
       "    </tr>\n",
       "    <tr>\n",
       "      <th>Dwaraka</th>\n",
       "      <td>0</td>\n",
       "      <td>0</td>\n",
       "      <td>1</td>\n",
       "    </tr>\n",
       "    <tr>\n",
       "      <th>Faridabad</th>\n",
       "      <td>0</td>\n",
       "      <td>0</td>\n",
       "      <td>1</td>\n",
       "    </tr>\n",
       "    <tr>\n",
       "      <th>Gurgaon</th>\n",
       "      <td>0</td>\n",
       "      <td>2</td>\n",
       "      <td>1</td>\n",
       "    </tr>\n",
       "    <tr>\n",
       "      <th>Hubli</th>\n",
       "      <td>0</td>\n",
       "      <td>1</td>\n",
       "      <td>0</td>\n",
       "    </tr>\n",
       "    <tr>\n",
       "      <th>Hyderabad</th>\n",
       "      <td>1</td>\n",
       "      <td>3</td>\n",
       "      <td>1</td>\n",
       "    </tr>\n",
       "    <tr>\n",
       "      <th>India</th>\n",
       "      <td>3</td>\n",
       "      <td>10</td>\n",
       "      <td>4</td>\n",
       "    </tr>\n",
       "    <tr>\n",
       "      <th>Jaipur</th>\n",
       "      <td>0</td>\n",
       "      <td>1</td>\n",
       "      <td>1</td>\n",
       "    </tr>\n",
       "    <tr>\n",
       "      <th>Jamshedpur</th>\n",
       "      <td>0</td>\n",
       "      <td>0</td>\n",
       "      <td>1</td>\n",
       "    </tr>\n",
       "    <tr>\n",
       "      <th>Kharagpur</th>\n",
       "      <td>0</td>\n",
       "      <td>0</td>\n",
       "      <td>1</td>\n",
       "    </tr>\n",
       "    <tr>\n",
       "      <th>Kochi</th>\n",
       "      <td>0</td>\n",
       "      <td>1</td>\n",
       "      <td>0</td>\n",
       "    </tr>\n",
       "    <tr>\n",
       "      <th>Kolkatha</th>\n",
       "      <td>1</td>\n",
       "      <td>1</td>\n",
       "      <td>0</td>\n",
       "    </tr>\n",
       "    <tr>\n",
       "      <th>Kottayam</th>\n",
       "      <td>0</td>\n",
       "      <td>1</td>\n",
       "      <td>0</td>\n",
       "    </tr>\n",
       "    <tr>\n",
       "      <th>Lucknow</th>\n",
       "      <td>0</td>\n",
       "      <td>0</td>\n",
       "      <td>1</td>\n",
       "    </tr>\n",
       "    <tr>\n",
       "      <th>Ludhiana</th>\n",
       "      <td>0</td>\n",
       "      <td>1</td>\n",
       "      <td>0</td>\n",
       "    </tr>\n",
       "    <tr>\n",
       "      <th>Manglore</th>\n",
       "      <td>0</td>\n",
       "      <td>1</td>\n",
       "      <td>0</td>\n",
       "    </tr>\n",
       "    <tr>\n",
       "      <th>Miamisburgoh</th>\n",
       "      <td>0</td>\n",
       "      <td>1</td>\n",
       "      <td>0</td>\n",
       "    </tr>\n",
       "    <tr>\n",
       "      <th>Mumbai</th>\n",
       "      <td>3</td>\n",
       "      <td>3</td>\n",
       "      <td>4</td>\n",
       "    </tr>\n",
       "    <tr>\n",
       "      <th>Noida</th>\n",
       "      <td>0</td>\n",
       "      <td>3</td>\n",
       "      <td>2</td>\n",
       "    </tr>\n",
       "    <tr>\n",
       "      <th>Pune</th>\n",
       "      <td>0</td>\n",
       "      <td>0</td>\n",
       "      <td>2</td>\n",
       "    </tr>\n",
       "    <tr>\n",
       "      <th>Ranibagh</th>\n",
       "      <td>0</td>\n",
       "      <td>1</td>\n",
       "      <td>0</td>\n",
       "    </tr>\n",
       "    <tr>\n",
       "      <th>Rishikesh</th>\n",
       "      <td>0</td>\n",
       "      <td>1</td>\n",
       "      <td>0</td>\n",
       "    </tr>\n",
       "    <tr>\n",
       "      <th>Rohtak</th>\n",
       "      <td>0</td>\n",
       "      <td>0</td>\n",
       "      <td>1</td>\n",
       "    </tr>\n",
       "    <tr>\n",
       "      <th>Salem</th>\n",
       "      <td>1</td>\n",
       "      <td>0</td>\n",
       "      <td>0</td>\n",
       "    </tr>\n",
       "    <tr>\n",
       "      <th>Tezpur</th>\n",
       "      <td>1</td>\n",
       "      <td>0</td>\n",
       "      <td>0</td>\n",
       "    </tr>\n",
       "    <tr>\n",
       "      <th>Thane</th>\n",
       "      <td>0</td>\n",
       "      <td>1</td>\n",
       "      <td>1</td>\n",
       "    </tr>\n",
       "    <tr>\n",
       "      <th>Trichy</th>\n",
       "      <td>1</td>\n",
       "      <td>1</td>\n",
       "      <td>0</td>\n",
       "    </tr>\n",
       "    <tr>\n",
       "      <th>Vijaywada</th>\n",
       "      <td>0</td>\n",
       "      <td>0</td>\n",
       "      <td>1</td>\n",
       "    </tr>\n",
       "  </tbody>\n",
       "</table>\n",
       "</div>"
      ],
      "text/plain": [
       "sentiment_vader  Positive  negitive  neutral\n",
       "clean_location                              \n",
       "AMhertusa               1         0        0\n",
       "Ahmedabad               0         1        0\n",
       "Ajmer                   0         0        1\n",
       "Allahabad               0         1        0\n",
       "Baanglore               0         1        0\n",
       "Banglore                5        13       14\n",
       "Bhadra                  0         0        1\n",
       "Bhopal                  1         0        0\n",
       "Chandigarh              0         0        1\n",
       "Chennai                 2         1        0\n",
       "Cochin                  0         1        0\n",
       "Coimbatore              0         0        1\n",
       "Delhi                   3         5        5\n",
       "Dwaraka                 0         0        1\n",
       "Faridabad               0         0        1\n",
       "Gurgaon                 0         2        1\n",
       "Hubli                   0         1        0\n",
       "Hyderabad               1         3        1\n",
       "India                   3        10        4\n",
       "Jaipur                  0         1        1\n",
       "Jamshedpur              0         0        1\n",
       "Kharagpur               0         0        1\n",
       "Kochi                   0         1        0\n",
       "Kolkatha                1         1        0\n",
       "Kottayam                0         1        0\n",
       "Lucknow                 0         0        1\n",
       "Ludhiana                0         1        0\n",
       "Manglore                0         1        0\n",
       "Miamisburgoh            0         1        0\n",
       "Mumbai                  3         3        4\n",
       "Noida                   0         3        2\n",
       "Pune                    0         0        2\n",
       "Ranibagh                0         1        0\n",
       "Rishikesh               0         1        0\n",
       "Rohtak                  0         0        1\n",
       "Salem                   1         0        0\n",
       "Tezpur                  1         0        0\n",
       "Thane                   0         1        1\n",
       "Trichy                  1         1        0\n",
       "Vijaywada               0         0        1"
      ]
     },
     "execution_count": 222,
     "metadata": {},
     "output_type": "execute_result"
    }
   ],
   "source": [
    "pd.crosstab(data.clean_location,data.sentiment_vader)"
   ]
  },
  {
   "cell_type": "code",
   "execution_count": null,
   "metadata": {},
   "outputs": [],
   "source": []
  },
  {
   "cell_type": "code",
   "execution_count": null,
   "metadata": {},
   "outputs": [],
   "source": []
  },
  {
   "cell_type": "code",
   "execution_count": null,
   "metadata": {},
   "outputs": [],
   "source": []
  }
 ],
 "metadata": {
  "kernelspec": {
   "display_name": "Python 3",
   "language": "python",
   "name": "python3"
  },
  "language_info": {
   "codemirror_mode": {
    "name": "ipython",
    "version": 3
   },
   "file_extension": ".py",
   "mimetype": "text/x-python",
   "name": "python",
   "nbconvert_exporter": "python",
   "pygments_lexer": "ipython3",
   "version": "3.6.7"
  }
 },
 "nbformat": 4,
 "nbformat_minor": 2
}
